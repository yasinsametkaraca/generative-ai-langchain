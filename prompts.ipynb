{
 "cells": [
  {
   "cell_type": "code",
   "id": "initial_id",
   "metadata": {
    "collapsed": true,
    "ExecuteTime": {
     "end_time": "2024-05-17T08:17:23.842666Z",
     "start_time": "2024-05-17T08:17:23.827614Z"
    }
   },
   "source": [
    "from dotenv import load_dotenv\n",
    "\n",
    "load_dotenv()"
   ],
   "outputs": [
    {
     "data": {
      "text/plain": [
       "True"
      ]
     },
     "execution_count": 1,
     "metadata": {},
     "output_type": "execute_result"
    }
   ],
   "execution_count": 1
  },
  {
   "metadata": {
    "ExecuteTime": {
     "end_time": "2024-05-17T08:17:24.245881Z",
     "start_time": "2024-05-17T08:17:23.843733Z"
    }
   },
   "cell_type": "code",
   "source": [
    "from langchain.prompts import PromptTemplate \n",
    "\n",
    "prompt = PromptTemplate.from_template(\n",
    "    \"Tell me about the history of {topic}\"\n",
    ")  # topic is a placeholder for the prompt template."
   ],
   "id": "76075ff3a7ae7331",
   "outputs": [],
   "execution_count": 2
  },
  {
   "metadata": {
    "ExecuteTime": {
     "end_time": "2024-05-17T08:17:24.262029Z",
     "start_time": "2024-05-17T08:17:24.247884Z"
    }
   },
   "cell_type": "code",
   "source": "prompt.format(topic=\"Spain\") # \"Tell me about the history of Spain\" ",
   "id": "a7dfa3d809e03b4",
   "outputs": [
    {
     "data": {
      "text/plain": [
       "'Tell me about the history of Spain'"
      ]
     },
     "execution_count": 3,
     "metadata": {},
     "output_type": "execute_result"
    }
   ],
   "execution_count": 3
  },
  {
   "metadata": {
    "ExecuteTime": {
     "end_time": "2024-05-17T08:20:09.425871Z",
     "start_time": "2024-05-17T08:20:09.394191Z"
    }
   },
   "cell_type": "code",
   "source": [
    "from langchain_openai import ChatOpenAI\n",
    "\n",
    "llm = ChatOpenAI()"
   ],
   "id": "22b1a5a39bd8d277",
   "outputs": [],
   "execution_count": 6
  },
  {
   "metadata": {
    "ExecuteTime": {
     "end_time": "2024-05-17T08:20:10.450408Z",
     "start_time": "2024-05-17T08:20:10.432112Z"
    }
   },
   "cell_type": "code",
   "source": "chain = prompt | llm # chaining the prompt and the language model together. to connect the prompt and the language model together.",
   "id": "73f5c5cb81bd4462",
   "outputs": [],
   "execution_count": 7
  },
  {
   "metadata": {
    "ExecuteTime": {
     "end_time": "2024-05-17T08:20:19.037249Z",
     "start_time": "2024-05-17T08:20:11.392960Z"
    }
   },
   "cell_type": "code",
   "source": "chain.invoke({\"topic\": \"Spain\"})",
   "id": "ebba22af8b8e471b",
   "outputs": [
    {
     "data": {
      "text/plain": [
       "AIMessage(content=\"The history of Spain is long and complex, with a rich tapestry of cultures, civilizations, and events that have shaped the country into what it is today. \\n\\nOne of the earliest civilizations in Spain was the Iberians, who lived on the Iberian Peninsula from around 6th century BC. They were later influenced by the Celts and Phoenicians, and eventually by the Romans, who conquered the region in the 2nd century BC. The Roman Empire ruled Spain for several centuries, leaving behind a legacy of roads, bridges, and buildings that can still be seen today.\\n\\nAfter the fall of the Roman Empire, Spain was invaded by various Germanic tribes, including the Visigoths, who established a kingdom in the region. In the 8th century, the Moors, Muslim invaders from North Africa, conquered most of Spain and established the Caliphate of Cordoba. This period, known as the Islamic Golden Age, saw great advancements in science, art, and culture.\\n\\nIn the 15th century, the Catholic Monarchs, Isabella of Castile and Ferdinand of Aragon, united Spain and completed the Reconquista, the centuries-long campaign to drive the Moors out of the Iberian Peninsula. This period also saw the beginning of Spanish exploration and colonization, with Christopher Columbus discovering the Americas in 1492.\\n\\nThe 16th and 17th centuries were known as Spain's Golden Age, a time of great wealth and power as the country built a vast empire that stretched across Europe, the Americas, Africa, and Asia. However, economic decline and political instability in the 18th century led to the loss of much of Spain's overseas territories.\\n\\nIn the 19th century, Spain experienced a series of political upheavals, including the Napoleonic Wars, the Spanish Civil War, and the dictatorship of Francisco Franco. After Franco's death in 1975, Spain transitioned to a constitutional monarchy and a democratic government, joining the European Union in 1986.\\n\\nToday, Spain is a diverse and vibrant country with a rich cultural heritage, known for its art, architecture, cuisine, music, and festivals. It remains a popular tourist destination and an important player in European and global politics.\", response_metadata={'token_usage': {'completion_tokens': 455, 'prompt_tokens': 14, 'total_tokens': 469}, 'model_name': 'gpt-3.5-turbo', 'system_fingerprint': None, 'finish_reason': 'stop', 'logprobs': None}, id='run-94a9d291-adde-4869-9008-dd12d3068984-0')"
      ]
     },
     "execution_count": 8,
     "metadata": {},
     "output_type": "execute_result"
    }
   ],
   "execution_count": 8
  },
  {
   "metadata": {
    "ExecuteTime": {
     "end_time": "2024-05-17T08:21:36.981829Z",
     "start_time": "2024-05-17T08:21:36.977849Z"
    }
   },
   "cell_type": "code",
   "source": [
    "from langchain_core.output_parsers import StrOutputParser\n",
    "\n",
    "output_parser = StrOutputParser() # output parser to parse the output of the language model."
   ],
   "id": "b55093058103328a",
   "outputs": [],
   "execution_count": 9
  },
  {
   "metadata": {
    "ExecuteTime": {
     "end_time": "2024-05-17T08:22:56.119129Z",
     "start_time": "2024-05-17T08:22:43.689846Z"
    }
   },
   "cell_type": "code",
   "source": [
    "chain = prompt | llm | output_parser # chaining the prompt, language model, and output parser together.\n",
    "\n",
    "chain.invoke({\"topic\": \"Spain\"})  # result is a string. output parser will parse the output of the language model."
   ],
   "id": "42c813256cbba2ac",
   "outputs": [
    {
     "data": {
      "text/plain": [
       "\"The history of Spain dates back to prehistoric times, with evidence of human presence in the region dating back to around 35,000 years ago. The Iberian Peninsula, where Spain is located, has been inhabited by various civilizations and cultures over the centuries.\\n\\nOne of the earliest known civilizations in Spain was the Tartessians, who inhabited the region around the 9th century BC. They were followed by the Phoenicians, Greeks, and Carthaginians, who established various colonies along the coast.\\n\\nIn 218 BC, the Roman Empire invaded the Iberian Peninsula and established the province of Hispania, which became an important part of the Roman Empire for several centuries. The Romans left a lasting impact on the region, with many of their buildings and infrastructure still visible today.\\n\\nAfter the fall of the Roman Empire, various Germanic tribes invaded the peninsula, leading to the establishment of the Visigothic Kingdom in the 5th century. The Visigoths ruled Spain for several centuries until they were defeated by the Muslim Moors in the early 8th century.\\n\\nThe Moors established the Umayyad Caliphate of Cordoba in Spain, which became a center of learning and culture during the Islamic Golden Age. However, the Christian kingdoms in the north of Spain gradually began to reconquer the peninsula, a process known as the Reconquista. In 1492, the Catholic Monarchs, Ferdinand and Isabella, completed the Reconquista by capturing the last Muslim stronghold of Granada.\\n\\nSpain then became a powerful empire, with territories across Europe, the Americas, Africa, and Asia. The Spanish Empire reached its peak during the 16th century, with Spain becoming one of the most powerful and influential countries in the world.\\n\\nHowever, the empire began to decline in the 17th century due to economic problems, wars, and internal strife. In the 19th century, Spain lost most of its colonies in the Americas, leading to a period of instability and political turmoil.\\n\\nIn the 20th century, Spain experienced a civil war from 1936 to 1939, which ended with the victory of General Francisco Franco's Nationalist forces. Franco ruled Spain as a dictator until his death in 1975, after which Spain transitioned to a constitutional monarchy.\\n\\nSince then, Spain has become a democratic country and a member of the European Union. It has undergone significant economic and social development, becoming one of the largest economies in Europe. Today, Spain is known for its rich history, diverse culture, and vibrant cities.\""
      ]
     },
     "execution_count": 10,
     "metadata": {},
     "output_type": "execute_result"
    }
   ],
   "execution_count": 10
  },
  {
   "metadata": {
    "ExecuteTime": {
     "end_time": "2024-05-17T08:23:58.619417Z",
     "start_time": "2024-05-17T08:23:50.623707Z"
    }
   },
   "cell_type": "code",
   "source": "chain.invoke({\"topic\": \"Fenerbahçe\"})",
   "id": "b91f3e48f8792bc1",
   "outputs": [
    {
     "data": {
      "text/plain": [
       "'Fenerbahçe Spor Kulübü, commonly known as Fenerbahçe, is a professional sports club based in Istanbul, Turkey. The club was founded in 1907 by a group of local men, including Ziya Songülen, Ayetullah Bey, and Necip Okaner. The club\\'s name, Fenerbahçe, comes from the name of the neighborhood where the club was originally founded.\\n\\nFenerbahçe initially started as a football club, but over the years, it has expanded to include various other sports such as basketball, volleyball, and athletics. The club\\'s football team quickly gained popularity and success, winning its first Turkish Super League title in 1959. Since then, Fenerbahçe has become one of the most successful and popular football clubs in Turkey, winning numerous league titles and domestic cups.\\n\\nFenerbahçe is also known for its passionate fan base, known as the \"Yellow Canaries.\" The club\\'s home ground is the Şükrü Saracoğlu Stadium, which has a capacity of over 50,000 spectators. Fenerbahçe\\'s main rivals are Galatasaray and Beşiktaş, with matches between these teams known as the Istanbul derby.\\n\\nIn addition to its success on the field, Fenerbahçe is also known for its philanthropic efforts and community outreach programs. The club has a strong social responsibility program and is involved in various charitable initiatives to support those in need.\\n\\nOverall, Fenerbahçe has a rich and storied history, with a strong tradition of success in Turkish sports. The club continues to be a powerhouse in Turkish football and a symbol of pride for its fans.'"
      ]
     },
     "execution_count": 11,
     "metadata": {},
     "output_type": "execute_result"
    }
   ],
   "execution_count": 11
  },
  {
   "metadata": {
    "ExecuteTime": {
     "end_time": "2024-05-17T09:07:23.823817Z",
     "start_time": "2024-05-17T09:07:23.816193Z"
    }
   },
   "cell_type": "code",
   "source": [
    "from langchain.prompts.chat import ChatPromptTemplate \n",
    "# Both information and role definitions can be made within the prompt. input_lang and output_lang are placeholders for the prompt template.\n",
    "\n",
    "template = \"You are a professional assistant that translates {input_lang} to {output_lang}.\" \n",
    "\n",
    "human_template = \"{text}\" # text is a placeholder for the prompt template. human_template is the template for the user input."
   ],
   "id": "77d561c8794bebda",
   "outputs": [],
   "execution_count": 16
  },
  {
   "metadata": {
    "ExecuteTime": {
     "end_time": "2024-05-17T09:07:24.882693Z",
     "start_time": "2024-05-17T09:07:24.876664Z"
    }
   },
   "cell_type": "code",
   "source": [
    "chat_prompt = ChatPromptTemplate.from_messages([ \n",
    "    (\"system\", template),\n",
    "    (\"human\", human_template)\n",
    "]) \n",
    "# chat prompt template to define the roles of the system and the human. System role is the language model and human role is the user input."
   ],
   "id": "38167a2862d8f99c",
   "outputs": [],
   "execution_count": 17
  },
  {
   "metadata": {
    "ExecuteTime": {
     "end_time": "2024-05-17T09:07:26.484698Z",
     "start_time": "2024-05-17T09:07:26.470684Z"
    }
   },
   "cell_type": "code",
   "source": "chat_prompt.format_messages(input_lang=\"English\", output_lang=\"Turkish\", text=\"I am a software engineer.\")",
   "id": "333fc267a5331ea4",
   "outputs": [
    {
     "data": {
      "text/plain": [
       "[SystemMessage(content='You are a professional assistant that translates English to Turkish.'),\n",
       " HumanMessage(content='I am a software engineer.')]"
      ]
     },
     "execution_count": 18,
     "metadata": {},
     "output_type": "execute_result"
    }
   ],
   "execution_count": 18
  },
  {
   "metadata": {},
   "cell_type": "markdown",
   "source": "We state that the model is a professional assistant who translates from English to Turkish. The user input is \"I am a software engineer.\" We use the sentence.",
   "id": "418db4ce4e33bd07"
  },
  {
   "metadata": {
    "ExecuteTime": {
     "end_time": "2024-05-17T09:10:06.986495Z",
     "start_time": "2024-05-17T09:10:05.911513Z"
    }
   },
   "cell_type": "code",
   "source": [
    "chain = chat_prompt | llm | output_parser\n",
    "\n",
    "print(chain.invoke({\"input_lang\": \"English\", \"output_lang\": \"Turkish\", \"text\": \"I am a software engineer.\"}))"
   ],
   "id": "a1358221808f658e",
   "outputs": [
    {
     "name": "stdout",
     "output_type": "stream",
     "text": [
      "Ben bir yazılım mühendisiyim.\n"
     ]
    }
   ],
   "execution_count": 19
  }
 ],
 "metadata": {
  "kernelspec": {
   "display_name": "Python 3",
   "language": "python",
   "name": "python3"
  },
  "language_info": {
   "codemirror_mode": {
    "name": "ipython",
    "version": 2
   },
   "file_extension": ".py",
   "mimetype": "text/x-python",
   "name": "python",
   "nbconvert_exporter": "python",
   "pygments_lexer": "ipython2",
   "version": "2.7.6"
  }
 },
 "nbformat": 4,
 "nbformat_minor": 5
}
